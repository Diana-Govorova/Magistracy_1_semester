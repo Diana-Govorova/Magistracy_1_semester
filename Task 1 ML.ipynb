{
 "cells": [
  {
   "cell_type": "markdown",
   "id": "cf0df3f6",
   "metadata": {},
   "source": [
    "**Говорова Диана, 23.М08-мм**\n",
    "\n",
    "**Задание 1: **\n",
    "- Самостоятельно скачать данные (из открытых источников по интересующей тематике, на сайте kaggle, UCI репозитория, Google Dataset Search и др.). Для полного балла нужно выбрать данные, в которых есть пропущенные значения.    (СДЕЛАНО)\n",
    "- Считать данные и вывести их основные характеристики, описание признаков.       (СДЕЛАНО)\n",
    "- Сформулировать задачу предсказания, какой признак интересно было бы предсказывать по остальным.     (СДЕЛАНО)   \n",
    "- (+2 балла) Произвести чистку данных (Data Cleaning). Например, заполнить пропущенные значения чем то осмысленным для поставленной задачи.    (СДЕЛАНО)  \n",
    "- Провести анализ признаков, используя визуализацию (hist(), boxplot(), countplot(), barplot() и тд), сделать выводы, которые могут быть полезны при дальнейшем решении задачи предсказания.       (СДЕЛАНО)\n",
    "- (+1 балл) Оценить зависимость между признаками (визуализация или построение матрицы корреляции).   (СДЕЛАНО)   \n",
    "- (+2 балла) Выполнить полезные преобразования данных (например, трансформировать категариальные признаки в количественные если это нужно), убрать ненужные признаки, создать новые (Feature Engineering).     (СДЕЛАНО)  "
   ]
  },
  {
   "cell_type": "code",
   "execution_count": 1,
   "id": "f7d01bd2",
   "metadata": {},
   "outputs": [],
   "source": [
    "import pandas as pd\n",
    "import numpy as np\n",
    "import math\n",
    "import seaborn as sns\n",
    "import matplotlib.pyplot as plt\n",
    "\n",
    "import warnings\n",
    "warnings.simplefilter(\"ignore\")\n",
    "\n",
    "%matplotlib inline"
   ]
  },
  {
   "cell_type": "markdown",
   "id": "9dc2a72f",
   "metadata": {},
   "source": [
    "**DataFrame Covid-19:**\n",
    "**1-да, 2-нет**\n",
    "\n",
    "- USMER - тип мед.учреждения(1 или 2)\n",
    "- SEX - пол, 1 for female and 2 for male.\n",
    "- PATIENT_TYPE - тип помощи(2 - остался в стационаре или 1 - отправился домой)\n",
    "- DATE_DIED - дата смерти, если пациент умер, иначе 9999-99-99 (можно рассматривать как nan)\n",
    "- INTUBATION - был ли пациент подключен к аппарату ИВЛ\n",
    "- PNEUMONIA - было ли у пациента воспаление легких\n",
    "- AGE - возраст\n",
    "- DIABETES - болел ли пациент диабетом\n",
    "- OTHER_DISEASE - были ли у пациента другие хронические заболевания\n",
    "- CARDIOVASCULAR - были ли у пациента заболевания СС системы\n",
    "- OBESITY - страдал ли пациент ожирением\n",
    "- TOBACCO - курил ли пациент\n",
    "- ICU - был ли пациент помещен в отделение интенсивной терапии"
   ]
  },
  {
   "cell_type": "code",
   "execution_count": 3,
   "id": "d0bc03f7",
   "metadata": {
    "scrolled": true
   },
   "outputs": [
    {
     "data": {
      "text/html": [
       "<div>\n",
       "<style scoped>\n",
       "    .dataframe tbody tr th:only-of-type {\n",
       "        vertical-align: middle;\n",
       "    }\n",
       "\n",
       "    .dataframe tbody tr th {\n",
       "        vertical-align: top;\n",
       "    }\n",
       "\n",
       "    .dataframe thead th {\n",
       "        text-align: right;\n",
       "    }\n",
       "</style>\n",
       "<table border=\"1\" class=\"dataframe\">\n",
       "  <thead>\n",
       "    <tr style=\"text-align: right;\">\n",
       "      <th></th>\n",
       "      <th>USMER</th>\n",
       "      <th>SEX</th>\n",
       "      <th>PATIENT_TYPE</th>\n",
       "      <th>DATE_DIED</th>\n",
       "      <th>INTUBED</th>\n",
       "      <th>PNEUMONIA</th>\n",
       "      <th>AGE</th>\n",
       "      <th>DIABETES</th>\n",
       "      <th>OTHER_DISEASE</th>\n",
       "      <th>CARDIOVASCULAR</th>\n",
       "      <th>OBESITY</th>\n",
       "      <th>TOBACCO</th>\n",
       "      <th>ICU</th>\n",
       "    </tr>\n",
       "  </thead>\n",
       "  <tbody>\n",
       "    <tr>\n",
       "      <th>0</th>\n",
       "      <td>2</td>\n",
       "      <td>2</td>\n",
       "      <td>2</td>\n",
       "      <td>09.06.2020</td>\n",
       "      <td>1.0</td>\n",
       "      <td>2</td>\n",
       "      <td>55</td>\n",
       "      <td>1.0</td>\n",
       "      <td>2.0</td>\n",
       "      <td>2.0</td>\n",
       "      <td>2.0</td>\n",
       "      <td>2.0</td>\n",
       "      <td>2.0</td>\n",
       "    </tr>\n",
       "    <tr>\n",
       "      <th>1</th>\n",
       "      <td>2</td>\n",
       "      <td>2</td>\n",
       "      <td>2</td>\n",
       "      <td>9999-99-99</td>\n",
       "      <td>1.0</td>\n",
       "      <td>1</td>\n",
       "      <td>45</td>\n",
       "      <td>2.0</td>\n",
       "      <td>2.0</td>\n",
       "      <td>2.0</td>\n",
       "      <td>2.0</td>\n",
       "      <td>2.0</td>\n",
       "      <td>1.0</td>\n",
       "    </tr>\n",
       "    <tr>\n",
       "      <th>2</th>\n",
       "      <td>2</td>\n",
       "      <td>1</td>\n",
       "      <td>2</td>\n",
       "      <td>9999-99-99</td>\n",
       "      <td>1.0</td>\n",
       "      <td>1</td>\n",
       "      <td>58</td>\n",
       "      <td>2.0</td>\n",
       "      <td>2.0</td>\n",
       "      <td>1.0</td>\n",
       "      <td>1.0</td>\n",
       "      <td>2.0</td>\n",
       "      <td>1.0</td>\n",
       "    </tr>\n",
       "    <tr>\n",
       "      <th>3</th>\n",
       "      <td>2</td>\n",
       "      <td>1</td>\n",
       "      <td>2</td>\n",
       "      <td>9999-99-99</td>\n",
       "      <td>1.0</td>\n",
       "      <td>1</td>\n",
       "      <td>48</td>\n",
       "      <td>1.0</td>\n",
       "      <td>2.0</td>\n",
       "      <td>2.0</td>\n",
       "      <td>2.0</td>\n",
       "      <td>2.0</td>\n",
       "      <td>1.0</td>\n",
       "    </tr>\n",
       "    <tr>\n",
       "      <th>4</th>\n",
       "      <td>2</td>\n",
       "      <td>2</td>\n",
       "      <td>2</td>\n",
       "      <td>9999-99-99</td>\n",
       "      <td>1.0</td>\n",
       "      <td>1</td>\n",
       "      <td>27</td>\n",
       "      <td>2.0</td>\n",
       "      <td>2.0</td>\n",
       "      <td>2.0</td>\n",
       "      <td>2.0</td>\n",
       "      <td>1.0</td>\n",
       "      <td>1.0</td>\n",
       "    </tr>\n",
       "    <tr>\n",
       "      <th>...</th>\n",
       "      <td>...</td>\n",
       "      <td>...</td>\n",
       "      <td>...</td>\n",
       "      <td>...</td>\n",
       "      <td>...</td>\n",
       "      <td>...</td>\n",
       "      <td>...</td>\n",
       "      <td>...</td>\n",
       "      <td>...</td>\n",
       "      <td>...</td>\n",
       "      <td>...</td>\n",
       "      <td>...</td>\n",
       "      <td>...</td>\n",
       "    </tr>\n",
       "    <tr>\n",
       "      <th>2352</th>\n",
       "      <td>2</td>\n",
       "      <td>1</td>\n",
       "      <td>1</td>\n",
       "      <td>9999-99-99</td>\n",
       "      <td>NaN</td>\n",
       "      <td>1</td>\n",
       "      <td>80</td>\n",
       "      <td>2.0</td>\n",
       "      <td>2.0</td>\n",
       "      <td>2.0</td>\n",
       "      <td>2.0</td>\n",
       "      <td>2.0</td>\n",
       "      <td>NaN</td>\n",
       "    </tr>\n",
       "    <tr>\n",
       "      <th>2353</th>\n",
       "      <td>2</td>\n",
       "      <td>1</td>\n",
       "      <td>1</td>\n",
       "      <td>9999-99-99</td>\n",
       "      <td>NaN</td>\n",
       "      <td>2</td>\n",
       "      <td>20</td>\n",
       "      <td>2.0</td>\n",
       "      <td>2.0</td>\n",
       "      <td>2.0</td>\n",
       "      <td>2.0</td>\n",
       "      <td>2.0</td>\n",
       "      <td>NaN</td>\n",
       "    </tr>\n",
       "    <tr>\n",
       "      <th>2354</th>\n",
       "      <td>2</td>\n",
       "      <td>2</td>\n",
       "      <td>1</td>\n",
       "      <td>9999-99-99</td>\n",
       "      <td>NaN</td>\n",
       "      <td>2</td>\n",
       "      <td>59</td>\n",
       "      <td>2.0</td>\n",
       "      <td>2.0</td>\n",
       "      <td>2.0</td>\n",
       "      <td>2.0</td>\n",
       "      <td>2.0</td>\n",
       "      <td>NaN</td>\n",
       "    </tr>\n",
       "    <tr>\n",
       "      <th>2355</th>\n",
       "      <td>2</td>\n",
       "      <td>1</td>\n",
       "      <td>1</td>\n",
       "      <td>9999-99-99</td>\n",
       "      <td>NaN</td>\n",
       "      <td>2</td>\n",
       "      <td>27</td>\n",
       "      <td>2.0</td>\n",
       "      <td>2.0</td>\n",
       "      <td>2.0</td>\n",
       "      <td>2.0</td>\n",
       "      <td>2.0</td>\n",
       "      <td>NaN</td>\n",
       "    </tr>\n",
       "    <tr>\n",
       "      <th>2356</th>\n",
       "      <td>2</td>\n",
       "      <td>1</td>\n",
       "      <td>1</td>\n",
       "      <td>9999-99-99</td>\n",
       "      <td>NaN</td>\n",
       "      <td>2</td>\n",
       "      <td>28</td>\n",
       "      <td>2.0</td>\n",
       "      <td>2.0</td>\n",
       "      <td>2.0</td>\n",
       "      <td>2.0</td>\n",
       "      <td>2.0</td>\n",
       "      <td>NaN</td>\n",
       "    </tr>\n",
       "  </tbody>\n",
       "</table>\n",
       "<p>2357 rows × 13 columns</p>\n",
       "</div>"
      ],
      "text/plain": [
       "      USMER  SEX  PATIENT_TYPE   DATE_DIED  INTUBED  PNEUMONIA  AGE  DIABETES  \\\n",
       "0         2    2             2  09.06.2020      1.0          2   55       1.0   \n",
       "1         2    2             2  9999-99-99      1.0          1   45       2.0   \n",
       "2         2    1             2  9999-99-99      1.0          1   58       2.0   \n",
       "3         2    1             2  9999-99-99      1.0          1   48       1.0   \n",
       "4         2    2             2  9999-99-99      1.0          1   27       2.0   \n",
       "...     ...  ...           ...         ...      ...        ...  ...       ...   \n",
       "2352      2    1             1  9999-99-99      NaN          1   80       2.0   \n",
       "2353      2    1             1  9999-99-99      NaN          2   20       2.0   \n",
       "2354      2    2             1  9999-99-99      NaN          2   59       2.0   \n",
       "2355      2    1             1  9999-99-99      NaN          2   27       2.0   \n",
       "2356      2    1             1  9999-99-99      NaN          2   28       2.0   \n",
       "\n",
       "      OTHER_DISEASE  CARDIOVASCULAR  OBESITY  TOBACCO  ICU  \n",
       "0               2.0             2.0      2.0      2.0  2.0  \n",
       "1               2.0             2.0      2.0      2.0  1.0  \n",
       "2               2.0             1.0      1.0      2.0  1.0  \n",
       "3               2.0             2.0      2.0      2.0  1.0  \n",
       "4               2.0             2.0      2.0      1.0  1.0  \n",
       "...             ...             ...      ...      ...  ...  \n",
       "2352            2.0             2.0      2.0      2.0  NaN  \n",
       "2353            2.0             2.0      2.0      2.0  NaN  \n",
       "2354            2.0             2.0      2.0      2.0  NaN  \n",
       "2355            2.0             2.0      2.0      2.0  NaN  \n",
       "2356            2.0             2.0      2.0      2.0  NaN  \n",
       "\n",
       "[2357 rows x 13 columns]"
      ]
     },
     "execution_count": 3,
     "metadata": {},
     "output_type": "execute_result"
    }
   ],
   "source": [
    "data = pd.read_csv(r\"C:\\Users\\diana\\ML MAG 1 SEM\\Task 1/Covid Data_1.csv\", sep = ';')\n",
    "data"
   ]
  },
  {
   "cell_type": "code",
   "execution_count": 4,
   "id": "b54b3cd5",
   "metadata": {},
   "outputs": [],
   "source": [
    "#Заменим значения пола и типа лечения на строковый тип для удобства представления графиков и во избежании путаницы. \n",
    "#При реализации предсказания заменим обратно.\n",
    "data['SEX'].replace (1, 'female', inplace = True)\n",
    "data['SEX'].replace (2, 'male', inplace = True)\n",
    "\n",
    "data['PATIENT_TYPE'].replace (2, 'clinic', inplace = True)\n",
    "data['PATIENT_TYPE'].replace (1, 'home', inplace = True)"
   ]
  },
  {
   "cell_type": "code",
   "execution_count": 4,
   "id": "69abd3ba",
   "metadata": {},
   "outputs": [
    {
     "data": {
      "text/plain": [
       "USMER              0\n",
       "SEX                0\n",
       "PATIENT_TYPE       0\n",
       "DATE_DIED          0\n",
       "INTUBED           98\n",
       "PNEUMONIA          0\n",
       "AGE                0\n",
       "DIABETES          12\n",
       "OTHER_DISEASE     19\n",
       "CARDIOVASCULAR    13\n",
       "OBESITY            8\n",
       "TOBACCO           14\n",
       "ICU               98\n",
       "dtype: int64"
      ]
     },
     "execution_count": 4,
     "metadata": {},
     "output_type": "execute_result"
    }
   ],
   "source": [
    "#Посмотрим количество нулевых значений в каждом столбце\n",
    "data.isnull().sum()"
   ]
  },
  {
   "cell_type": "code",
   "execution_count": 5,
   "id": "777f5ace",
   "metadata": {
    "scrolled": false
   },
   "outputs": [
    {
     "name": "stdout",
     "output_type": "stream",
     "text": [
      "<class 'pandas.core.frame.DataFrame'>\n",
      "RangeIndex: 2357 entries, 0 to 2356\n",
      "Data columns (total 13 columns):\n",
      " #   Column          Non-Null Count  Dtype  \n",
      "---  ------          --------------  -----  \n",
      " 0   USMER           2357 non-null   int64  \n",
      " 1   SEX             2357 non-null   object \n",
      " 2   PATIENT_TYPE    2357 non-null   object \n",
      " 3   DATE_DIED       2357 non-null   object \n",
      " 4   INTUBED         2259 non-null   float64\n",
      " 5   PNEUMONIA       2357 non-null   int64  \n",
      " 6   AGE             2357 non-null   int64  \n",
      " 7   DIABETES        2345 non-null   float64\n",
      " 8   OTHER_DISEASE   2338 non-null   float64\n",
      " 9   CARDIOVASCULAR  2344 non-null   float64\n",
      " 10  OBESITY         2349 non-null   float64\n",
      " 11  TOBACCO         2343 non-null   float64\n",
      " 12  ICU             2259 non-null   float64\n",
      "dtypes: float64(7), int64(3), object(3)\n",
      "memory usage: 239.5+ KB\n"
     ]
    }
   ],
   "source": [
    "data.info()"
   ]
  },
  {
   "cell_type": "code",
   "execution_count": 6,
   "id": "655d828d",
   "metadata": {
    "scrolled": true
   },
   "outputs": [
    {
     "data": {
      "text/html": [
       "<div>\n",
       "<style scoped>\n",
       "    .dataframe tbody tr th:only-of-type {\n",
       "        vertical-align: middle;\n",
       "    }\n",
       "\n",
       "    .dataframe tbody tr th {\n",
       "        vertical-align: top;\n",
       "    }\n",
       "\n",
       "    .dataframe thead th {\n",
       "        text-align: right;\n",
       "    }\n",
       "</style>\n",
       "<table border=\"1\" class=\"dataframe\">\n",
       "  <thead>\n",
       "    <tr style=\"text-align: right;\">\n",
       "      <th></th>\n",
       "      <th>USMER</th>\n",
       "      <th>INTUBED</th>\n",
       "      <th>PNEUMONIA</th>\n",
       "      <th>AGE</th>\n",
       "      <th>DIABETES</th>\n",
       "      <th>OTHER_DISEASE</th>\n",
       "      <th>CARDIOVASCULAR</th>\n",
       "      <th>OBESITY</th>\n",
       "      <th>TOBACCO</th>\n",
       "      <th>ICU</th>\n",
       "    </tr>\n",
       "  </thead>\n",
       "  <tbody>\n",
       "    <tr>\n",
       "      <th>count</th>\n",
       "      <td>2357.000000</td>\n",
       "      <td>2259.000000</td>\n",
       "      <td>2357.000000</td>\n",
       "      <td>2357.000000</td>\n",
       "      <td>2345.000000</td>\n",
       "      <td>2338.000000</td>\n",
       "      <td>2344.000000</td>\n",
       "      <td>2349.000000</td>\n",
       "      <td>2343.000000</td>\n",
       "      <td>2259.000000</td>\n",
       "    </tr>\n",
       "    <tr>\n",
       "      <th>mean</th>\n",
       "      <td>1.332202</td>\n",
       "      <td>1.732182</td>\n",
       "      <td>1.226135</td>\n",
       "      <td>54.926602</td>\n",
       "      <td>1.685714</td>\n",
       "      <td>1.963216</td>\n",
       "      <td>1.949232</td>\n",
       "      <td>1.803321</td>\n",
       "      <td>1.928724</td>\n",
       "      <td>1.860115</td>\n",
       "    </tr>\n",
       "    <tr>\n",
       "      <th>std</th>\n",
       "      <td>0.471103</td>\n",
       "      <td>0.442920</td>\n",
       "      <td>0.418416</td>\n",
       "      <td>18.081619</td>\n",
       "      <td>0.464330</td>\n",
       "      <td>0.188270</td>\n",
       "      <td>0.219570</td>\n",
       "      <td>0.397573</td>\n",
       "      <td>0.257340</td>\n",
       "      <td>0.346944</td>\n",
       "    </tr>\n",
       "    <tr>\n",
       "      <th>min</th>\n",
       "      <td>1.000000</td>\n",
       "      <td>1.000000</td>\n",
       "      <td>1.000000</td>\n",
       "      <td>0.000000</td>\n",
       "      <td>1.000000</td>\n",
       "      <td>1.000000</td>\n",
       "      <td>1.000000</td>\n",
       "      <td>1.000000</td>\n",
       "      <td>1.000000</td>\n",
       "      <td>1.000000</td>\n",
       "    </tr>\n",
       "    <tr>\n",
       "      <th>25%</th>\n",
       "      <td>1.000000</td>\n",
       "      <td>1.000000</td>\n",
       "      <td>1.000000</td>\n",
       "      <td>44.000000</td>\n",
       "      <td>1.000000</td>\n",
       "      <td>2.000000</td>\n",
       "      <td>2.000000</td>\n",
       "      <td>2.000000</td>\n",
       "      <td>2.000000</td>\n",
       "      <td>2.000000</td>\n",
       "    </tr>\n",
       "    <tr>\n",
       "      <th>50%</th>\n",
       "      <td>1.000000</td>\n",
       "      <td>2.000000</td>\n",
       "      <td>1.000000</td>\n",
       "      <td>56.000000</td>\n",
       "      <td>2.000000</td>\n",
       "      <td>2.000000</td>\n",
       "      <td>2.000000</td>\n",
       "      <td>2.000000</td>\n",
       "      <td>2.000000</td>\n",
       "      <td>2.000000</td>\n",
       "    </tr>\n",
       "    <tr>\n",
       "      <th>75%</th>\n",
       "      <td>2.000000</td>\n",
       "      <td>2.000000</td>\n",
       "      <td>1.000000</td>\n",
       "      <td>67.000000</td>\n",
       "      <td>2.000000</td>\n",
       "      <td>2.000000</td>\n",
       "      <td>2.000000</td>\n",
       "      <td>2.000000</td>\n",
       "      <td>2.000000</td>\n",
       "      <td>2.000000</td>\n",
       "    </tr>\n",
       "    <tr>\n",
       "      <th>max</th>\n",
       "      <td>2.000000</td>\n",
       "      <td>2.000000</td>\n",
       "      <td>2.000000</td>\n",
       "      <td>103.000000</td>\n",
       "      <td>2.000000</td>\n",
       "      <td>2.000000</td>\n",
       "      <td>2.000000</td>\n",
       "      <td>2.000000</td>\n",
       "      <td>2.000000</td>\n",
       "      <td>2.000000</td>\n",
       "    </tr>\n",
       "  </tbody>\n",
       "</table>\n",
       "</div>"
      ],
      "text/plain": [
       "             USMER      INTUBED    PNEUMONIA          AGE     DIABETES  \\\n",
       "count  2357.000000  2259.000000  2357.000000  2357.000000  2345.000000   \n",
       "mean      1.332202     1.732182     1.226135    54.926602     1.685714   \n",
       "std       0.471103     0.442920     0.418416    18.081619     0.464330   \n",
       "min       1.000000     1.000000     1.000000     0.000000     1.000000   \n",
       "25%       1.000000     1.000000     1.000000    44.000000     1.000000   \n",
       "50%       1.000000     2.000000     1.000000    56.000000     2.000000   \n",
       "75%       2.000000     2.000000     1.000000    67.000000     2.000000   \n",
       "max       2.000000     2.000000     2.000000   103.000000     2.000000   \n",
       "\n",
       "       OTHER_DISEASE  CARDIOVASCULAR      OBESITY      TOBACCO          ICU  \n",
       "count    2338.000000     2344.000000  2349.000000  2343.000000  2259.000000  \n",
       "mean        1.963216        1.949232     1.803321     1.928724     1.860115  \n",
       "std         0.188270        0.219570     0.397573     0.257340     0.346944  \n",
       "min         1.000000        1.000000     1.000000     1.000000     1.000000  \n",
       "25%         2.000000        2.000000     2.000000     2.000000     2.000000  \n",
       "50%         2.000000        2.000000     2.000000     2.000000     2.000000  \n",
       "75%         2.000000        2.000000     2.000000     2.000000     2.000000  \n",
       "max         2.000000        2.000000     2.000000     2.000000     2.000000  "
      ]
     },
     "execution_count": 6,
     "metadata": {},
     "output_type": "execute_result"
    }
   ],
   "source": [
    "data.describe()"
   ]
  },
  {
   "cell_type": "markdown",
   "id": "7cedeff0",
   "metadata": {},
   "source": [
    "В описании нас интересует только столбец с возрастом, видим, что средний возраст 55 лет, min - 0, а max - 103."
   ]
  },
  {
   "cell_type": "code",
   "execution_count": 7,
   "id": "8d0fa7fa",
   "metadata": {},
   "outputs": [],
   "source": [
    "#Произведем Data Cleaning.\n",
    "#Создадим новый столбец с информацией умер человек или нет, основываясь на столбце с датой смерти(где 9999-99-99 is nan) \n",
    "#После чего удалим столбец с датой смерти, так как для дальнейшего анализа он не потребуется. \n",
    "data['DEATH'] = data['DATE_DIED'].apply(lambda x: 0 if x == '9999-99-99' else 1)\n",
    "data.drop(columns = ['DATE_DIED'], inplace = True)"
   ]
  },
  {
   "cell_type": "code",
   "execution_count": 8,
   "id": "e0d57864",
   "metadata": {},
   "outputs": [
    {
     "name": "stdout",
     "output_type": "stream",
     "text": [
      "USMER  --  {1: 1574, 2: 783}\n",
      "SEX  --  {'male': 1420, 'female': 937}\n",
      "PATIENT_TYPE  --  {'clinic': 2259, 'home': 98}\n",
      "INTUBED  --  {2.0: 1654, 1.0: 605}\n",
      "PNEUMONIA  --  {1: 1824, 2: 533}\n",
      "DIABETES  --  {2.0: 1608, 1.0: 737}\n",
      "OTHER_DISEASE  --  {2.0: 2252, 1.0: 86}\n",
      "CARDIOVASCULAR  --  {2.0: 2225, 1.0: 119}\n",
      "OBESITY  --  {2.0: 1887, 1.0: 462}\n",
      "TOBACCO  --  {2.0: 2176, 1.0: 167}\n",
      "ICU  --  {2.0: 1943, 1.0: 316}\n",
      "DEATH  --  {1: 1280, 0: 1077}\n"
     ]
    }
   ],
   "source": [
    "#Посмотрим сколько каких значений в каждом столбце\n",
    "for i in data.columns:\n",
    "    if(i!='AGE' and i!='DATE_DIED'):\n",
    "        print(i,\" -- \", dict(data[i].value_counts()))"
   ]
  },
  {
   "cell_type": "markdown",
   "id": "02805740",
   "metadata": {},
   "source": [
    "**B качестве предсказываемого признака интересно было бы взять факт смерти пациента от Covid19. В качестве параметров можно\n",
    "взять наличия одного/нескольких хронических заболеваний, также возраст пациента, его пол, а также помещение пациента на аппарат ИВЛ.**"
   ]
  },
  {
   "cell_type": "code",
   "execution_count": 9,
   "id": "7ce99e06",
   "metadata": {},
   "outputs": [
    {
     "name": "stdout",
     "output_type": "stream",
     "text": [
      "1    1280\n",
      "0    1077\n",
      "Name: DEATH, dtype: int64\n",
      "\n",
      "Доля умерших от ковида:  0.543\n"
     ]
    }
   ],
   "source": [
    "#Количество умерших\n",
    "print(data['DEATH'].value_counts())\n",
    "print('')\n",
    "print(\"Доля умерших от ковида: \", round(data['DEATH'].mean(), 3))"
   ]
  },
  {
   "cell_type": "code",
   "execution_count": 10,
   "id": "64cd0ef8",
   "metadata": {},
   "outputs": [
    {
     "data": {
      "text/plain": [
       "SEX     DEATH\n",
       "female  0        482\n",
       "        1        455\n",
       "male    0        595\n",
       "        1        825\n",
       "Name: DEATH, dtype: int64"
      ]
     },
     "execution_count": 10,
     "metadata": {},
     "output_type": "execute_result"
    }
   ],
   "source": [
    "#Количество умерших каждого пола\n",
    "data.groupby(['SEX', 'DEATH'])['DEATH'].count()\n"
   ]
  },
  {
   "cell_type": "code",
   "execution_count": 11,
   "id": "e93b1c34",
   "metadata": {},
   "outputs": [
    {
     "data": {
      "image/png": "[encoded data removed]",
      "text/plain": [
       "<Figure size 640x480 with 1 Axes>"
      ]
     },
     "metadata": {},
     "output_type": "display_data"
    }
   ],
   "source": [
    "sns.barplot(x = \"SEX\", y = \"DEATH\", data = data,  ci = None);"
   ]
  },
  {
   "cell_type": "markdown",
   "id": "911d33cf",
   "metadata": {},
   "source": [
    "На графике выше видно, что процент смертности от ковида у мужчин выше."
   ]
  },
  {
   "cell_type": "markdown",
   "id": "e190b697",
   "metadata": {},
   "source": [
    "........................................................................................................................................"
   ]
  },
  {
   "cell_type": "code",
   "execution_count": 12,
   "id": "d644b091",
   "metadata": {
    "scrolled": true
   },
   "outputs": [
    {
     "data": {
      "image/png": "[encoded data removed]",
      "text/plain": [
       "<Figure size 640x480 with 1 Axes>"
      ]
     },
     "metadata": {},
     "output_type": "display_data"
    }
   ],
   "source": [
    "#Теперь посмотрим как смертность распределялась по возрастам\n",
    "data.boxplot(column=\"AGE\", by=\"DEATH\")\n",
    "plt.show()"
   ]
  },
  {
   "cell_type": "markdown",
   "id": "f3f79dd7",
   "metadata": {},
   "source": [
    "Средний возраст умерших ~62 года, средний возраст выживших ~48 лет, что говорит о том, \n",
    "что возраст в принципе может стать хорошим параметром для предсказания смертности. Также на графике видно, \n",
    "что смерти пациентов до ~20 лет являются скорее выбросами."
   ]
  },
  {
   "cell_type": "markdown",
   "id": "c95006e2",
   "metadata": {},
   "source": [
    "........................................................................................................................\n"
   ]
  },
  {
   "cell_type": "markdown",
   "id": "3242a487",
   "metadata": {},
   "source": [
    "Интересно посмотреть зависимость между подключением к аппарату ИВЛ и смертью. Так как есть мнение, что после аппарата человек уже вряд ли выкарабкается."
   ]
  },
  {
   "cell_type": "code",
   "execution_count": 13,
   "id": "d8706564",
   "metadata": {},
   "outputs": [
    {
     "data": {
      "text/plain": [
       "INTUBED  DEATH\n",
       "1.0      0         71\n",
       "         1        534\n",
       "2.0      0        912\n",
       "         1        742\n",
       "Name: DEATH, dtype: int64"
      ]
     },
     "execution_count": 13,
     "metadata": {},
     "output_type": "execute_result"
    }
   ],
   "source": [
    "data.groupby([\"INTUBED\", \"DEATH\"])['DEATH'].count()"
   ]
  },
  {
   "cell_type": "code",
   "execution_count": 14,
   "id": "a529b154",
   "metadata": {},
   "outputs": [
    {
     "data": {
      "image/png": "[encoded data removed]",
      "text/plain": [
       "<Figure size 640x480 with 1 Axes>"
      ]
     },
     "metadata": {},
     "output_type": "display_data"
    }
   ],
   "source": [
    "sns.barplot(x = \"INTUBED\", y = \"DEATH\", data = data, ci = None);"
   ]
  },
  {
   "cell_type": "markdown",
   "id": "e459001a",
   "metadata": {},
   "source": [
    "На графике четко видно, что при подключению пациента к аппарату ИВЛ смертность превышает 85%, в то время как смертность \n",
    "не интубированных пациентов не превышает и 50%"
   ]
  },
  {
   "cell_type": "markdown",
   "id": "a1662718",
   "metadata": {},
   "source": [
    "........................................................................................................................."
   ]
  },
  {
   "cell_type": "markdown",
   "id": "15b6125c",
   "metadata": {},
   "source": [
    "Можно посмотреть зависимость смерти пациента от того факта, была ли у него пневмония"
   ]
  },
  {
   "cell_type": "code",
   "execution_count": 15,
   "id": "db390500",
   "metadata": {},
   "outputs": [
    {
     "data": {
      "text/plain": [
       "PNEUMONIA  DEATH\n",
       "1          0         674\n",
       "           1        1150\n",
       "2          0         403\n",
       "           1         130\n",
       "Name: DEATH, dtype: int64"
      ]
     },
     "execution_count": 15,
     "metadata": {},
     "output_type": "execute_result"
    }
   ],
   "source": [
    "data.groupby(['PNEUMONIA', 'DEATH'])['DEATH'].count()"
   ]
  },
  {
   "cell_type": "code",
   "execution_count": 16,
   "id": "31a438cc",
   "metadata": {},
   "outputs": [
    {
     "data": {
      "image/png": "[encoded data removed]",
      "text/plain": [
       "<Figure size 640x480 with 1 Axes>"
      ]
     },
     "metadata": {},
     "output_type": "display_data"
    }
   ],
   "source": [
    "sns.barplot(x = 'PNEUMONIA', y = 'DEATH', data = data, ci = None);"
   ]
  },
  {
   "cell_type": "code",
   "execution_count": 17,
   "id": "eb3b6f2e",
   "metadata": {
    "scrolled": true
   },
   "outputs": [
    {
     "data": {
      "image/png": "[encoded data removed]",
      "text/plain": [
       "<Figure size 640x480 with 1 Axes>"
      ]
     },
     "metadata": {},
     "output_type": "display_data"
    }
   ],
   "source": [
    "sns.countplot('PNEUMONIA', hue='DEATH', data=data);"
   ]
  },
  {
   "cell_type": "markdown",
   "id": "61a0bc8e",
   "metadata": {},
   "source": [
    "Исходя из графиков видно, что зависимисть смерти от наличия пневмонии тоже достаточно хорошо прослеживается."
   ]
  },
  {
   "cell_type": "markdown",
   "id": "91ea46ab",
   "metadata": {},
   "source": [
    "............................................................................................................................................."
   ]
  },
  {
   "cell_type": "markdown",
   "id": "df36e58f",
   "metadata": {},
   "source": [
    "Посмотрим зависимость типа мед учреждения, оказанной помощи и смертнотью"
   ]
  },
  {
   "cell_type": "code",
   "execution_count": 18,
   "id": "433b81de",
   "metadata": {},
   "outputs": [
    {
     "data": {
      "text/html": [
       "<style type=\"text/css\">\n",
       "#T_cf6ef_row0_col0 {\n",
       "  background-color: #8fb4d6;\n",
       "  color: #000000;\n",
       "}\n",
       "#T_cf6ef_row0_col1 {\n",
       "  background-color: #589ec8;\n",
       "  color: #f1f1f1;\n",
       "}\n",
       "#T_cf6ef_row0_col2 {\n",
       "  background-color: #73a9cf;\n",
       "  color: #f1f1f1;\n",
       "}\n",
       "#T_cf6ef_row1_col0, #T_cf6ef_row1_col1, #T_cf6ef_row1_col2 {\n",
       "  background-color: #fff7fb;\n",
       "  color: #000000;\n",
       "}\n",
       "#T_cf6ef_row2_col0, #T_cf6ef_row2_col1, #T_cf6ef_row2_col2 {\n",
       "  background-color: #023858;\n",
       "  color: #f1f1f1;\n",
       "}\n",
       "</style>\n",
       "<table id=\"T_cf6ef_\">\n",
       "  <thead>\n",
       "    <tr>\n",
       "      <th class=\"index_name level0\" >DEATH</th>\n",
       "      <th class=\"col_heading level0 col0\" >0</th>\n",
       "      <th class=\"col_heading level0 col1\" >1</th>\n",
       "      <th class=\"col_heading level0 col2\" >All</th>\n",
       "    </tr>\n",
       "    <tr>\n",
       "      <th class=\"index_name level0\" >USMER</th>\n",
       "      <th class=\"blank col0\" >&nbsp;</th>\n",
       "      <th class=\"blank col1\" >&nbsp;</th>\n",
       "      <th class=\"blank col2\" >&nbsp;</th>\n",
       "    </tr>\n",
       "  </thead>\n",
       "  <tbody>\n",
       "    <tr>\n",
       "      <th id=\"T_cf6ef_level0_row0\" class=\"row_heading level0 row0\" >1</th>\n",
       "      <td id=\"T_cf6ef_row0_col0\" class=\"data row0 col0\" >686</td>\n",
       "      <td id=\"T_cf6ef_row0_col1\" class=\"data row0 col1\" >888</td>\n",
       "      <td id=\"T_cf6ef_row0_col2\" class=\"data row0 col2\" >1574</td>\n",
       "    </tr>\n",
       "    <tr>\n",
       "      <th id=\"T_cf6ef_level0_row1\" class=\"row_heading level0 row1\" >2</th>\n",
       "      <td id=\"T_cf6ef_row1_col0\" class=\"data row1 col0\" >391</td>\n",
       "      <td id=\"T_cf6ef_row1_col1\" class=\"data row1 col1\" >392</td>\n",
       "      <td id=\"T_cf6ef_row1_col2\" class=\"data row1 col2\" >783</td>\n",
       "    </tr>\n",
       "    <tr>\n",
       "      <th id=\"T_cf6ef_level0_row2\" class=\"row_heading level0 row2\" >All</th>\n",
       "      <td id=\"T_cf6ef_row2_col0\" class=\"data row2 col0\" >1077</td>\n",
       "      <td id=\"T_cf6ef_row2_col1\" class=\"data row2 col1\" >1280</td>\n",
       "      <td id=\"T_cf6ef_row2_col2\" class=\"data row2 col2\" >2357</td>\n",
       "    </tr>\n",
       "  </tbody>\n",
       "</table>\n"
      ],
      "text/plain": [
       "<pandas.io.formats.style.Styler at 0x20e343ec880>"
      ]
     },
     "execution_count": 18,
     "metadata": {},
     "output_type": "execute_result"
    }
   ],
   "source": [
    "pd.crosstab([data['USMER']], [data['DEATH']], margins=True).style.background_gradient()"
   ]
  },
  {
   "cell_type": "code",
   "execution_count": 19,
   "id": "2f32050f",
   "metadata": {},
   "outputs": [
    {
     "data": {
      "image/png": "[encoded data removed]",
      "text/plain": [
       "<Figure size 500x500 with 1 Axes>"
      ]
     },
     "metadata": {},
     "output_type": "display_data"
    }
   ],
   "source": [
    "sns.factorplot('USMER', 'DEATH', data=data);"
   ]
  },
  {
   "cell_type": "markdown",
   "id": "db73e3a7",
   "metadata": {},
   "source": [
    "При разбиении по номеру больницы доля смертности оказалась ~ равна : 50-56%, поэтому для дальнейшего анализа и построения модели классификации этот признак можем убрать."
   ]
  },
  {
   "cell_type": "code",
   "execution_count": 20,
   "id": "9ef88823",
   "metadata": {},
   "outputs": [],
   "source": [
    "data.drop(columns = ['USMER'], inplace = True)"
   ]
  },
  {
   "cell_type": "markdown",
   "id": "0683c1c6",
   "metadata": {},
   "source": [
    ".........................................................................................................................."
   ]
  },
  {
   "cell_type": "markdown",
   "id": "58b22297",
   "metadata": {},
   "source": [
    "Теперь займемся преобразованием данных"
   ]
  },
  {
   "cell_type": "markdown",
   "id": "ce334eda",
   "metadata": {},
   "source": [
    "Разобьем возраст пациентов на 6 классов"
   ]
  },
  {
   "cell_type": "code",
   "execution_count": 21,
   "id": "6f00d04c",
   "metadata": {},
   "outputs": [],
   "source": [
    "data['Age_class'] = 0 \n",
    "data.loc[data['AGE'] <= 18, 'Age_class'] = 0  \n",
    "data.loc[(data['AGE'] > 18) & (data['AGE'] <= 35), 'Age_class'] = 1\n",
    "data.loc[(data['AGE'] > 35) & (data['AGE'] <= 48), 'Age_class'] = 2\n",
    "data.loc[(data['AGE'] > 48) & (data['AGE'] <= 60), 'Age_class'] = 3\n",
    "data.loc[(data['AGE'] > 60)  & (data['AGE'] <= 75), 'Age_class'] = 4\n",
    "data.loc[data['AGE'] > 75, 'Age_class'] = 5\n"
   ]
  },
  {
   "cell_type": "code",
   "execution_count": 22,
   "id": "31e667a1",
   "metadata": {},
   "outputs": [],
   "source": [
    "data.drop(columns = ['AGE'], inplace = True)"
   ]
  },
  {
   "cell_type": "code",
   "execution_count": 23,
   "id": "43cd5584",
   "metadata": {},
   "outputs": [
    {
     "data": {
      "text/plain": [
       "4    642\n",
       "3    631\n",
       "2    475\n",
       "5    303\n",
       "1    219\n",
       "0     87\n",
       "Name: Age_class, dtype: int64"
      ]
     },
     "execution_count": 23,
     "metadata": {},
     "output_type": "execute_result"
    }
   ],
   "source": [
    "data['Age_class'].value_counts()"
   ]
  },
  {
   "cell_type": "code",
   "execution_count": 24,
   "id": "430d7f06",
   "metadata": {},
   "outputs": [
    {
     "data": {
      "image/png": "[encoded data removed]",
      "text/plain": [
       "<Figure size 640x480 with 1 Axes>"
      ]
     },
     "metadata": {},
     "output_type": "display_data"
    }
   ],
   "source": [
    "sns.barplot(x = 'Age_class', y = 'DEATH', data = data, ci = None);"
   ]
  },
  {
   "cell_type": "code",
   "execution_count": 25,
   "id": "b05f6cf1",
   "metadata": {},
   "outputs": [
    {
     "data": {
      "image/png": "[encoded data removed]",
      "text/plain": [
       "<Figure size 640x480 with 1 Axes>"
      ]
     },
     "metadata": {},
     "output_type": "display_data"
    }
   ],
   "source": [
    "sns.barplot(x = 'Age_class', y = 'DEATH', hue = 'SEX', data = data, ci = None);"
   ]
  },
  {
   "cell_type": "markdown",
   "id": "e473dd15",
   "metadata": {},
   "source": [
    "Видим, что доля смертности возрастает с увеличением возраста пациента,\n",
    "при этом у пожилых пациентов смертность мужчин и женщин примерно равна,\n",
    "у несовершеннолетних доля смертности мужчин сильно превосходит женщин, у остальных групп доля \n",
    "смертности мужчин также превосходит долю смертности женщин, но не так сильно, как у детей и подростков."
   ]
  },
  {
   "cell_type": "code",
   "execution_count": 26,
   "id": "b1c65535",
   "metadata": {
    "scrolled": false
   },
   "outputs": [
    {
     "data": {
      "text/html": [
       "<div>\n",
       "<style scoped>\n",
       "    .dataframe tbody tr th:only-of-type {\n",
       "        vertical-align: middle;\n",
       "    }\n",
       "\n",
       "    .dataframe tbody tr th {\n",
       "        vertical-align: top;\n",
       "    }\n",
       "\n",
       "    .dataframe thead th {\n",
       "        text-align: right;\n",
       "    }\n",
       "</style>\n",
       "<table border=\"1\" class=\"dataframe\">\n",
       "  <thead>\n",
       "    <tr style=\"text-align: right;\">\n",
       "      <th></th>\n",
       "      <th>INTUBED</th>\n",
       "      <th>PNEUMONIA</th>\n",
       "      <th>DIABETES</th>\n",
       "      <th>OTHER_DISEASE</th>\n",
       "      <th>CARDIOVASCULAR</th>\n",
       "      <th>OBESITY</th>\n",
       "      <th>TOBACCO</th>\n",
       "      <th>ICU</th>\n",
       "      <th>DEATH</th>\n",
       "      <th>Age_class</th>\n",
       "    </tr>\n",
       "  </thead>\n",
       "  <tbody>\n",
       "    <tr>\n",
       "      <th>INTUBED</th>\n",
       "      <td>1.000000</td>\n",
       "      <td>0.254542</td>\n",
       "      <td>0.046122</td>\n",
       "      <td>0.048484</td>\n",
       "      <td>0.062508</td>\n",
       "      <td>0.124017</td>\n",
       "      <td>0.004662</td>\n",
       "      <td>0.413188</td>\n",
       "      <td>-0.387675</td>\n",
       "      <td>-0.111414</td>\n",
       "    </tr>\n",
       "    <tr>\n",
       "      <th>PNEUMONIA</th>\n",
       "      <td>0.254542</td>\n",
       "      <td>1.000000</td>\n",
       "      <td>0.131439</td>\n",
       "      <td>0.040506</td>\n",
       "      <td>0.069445</td>\n",
       "      <td>0.113782</td>\n",
       "      <td>0.039020</td>\n",
       "      <td>0.166118</td>\n",
       "      <td>-0.324640</td>\n",
       "      <td>-0.229870</td>\n",
       "    </tr>\n",
       "    <tr>\n",
       "      <th>DIABETES</th>\n",
       "      <td>0.046122</td>\n",
       "      <td>0.131439</td>\n",
       "      <td>1.000000</td>\n",
       "      <td>0.015484</td>\n",
       "      <td>0.130735</td>\n",
       "      <td>0.157696</td>\n",
       "      <td>-0.024063</td>\n",
       "      <td>0.016023</td>\n",
       "      <td>-0.179274</td>\n",
       "      <td>-0.279694</td>\n",
       "    </tr>\n",
       "    <tr>\n",
       "      <th>OTHER_DISEASE</th>\n",
       "      <td>0.048484</td>\n",
       "      <td>0.040506</td>\n",
       "      <td>0.015484</td>\n",
       "      <td>1.000000</td>\n",
       "      <td>0.167948</td>\n",
       "      <td>0.089473</td>\n",
       "      <td>0.019980</td>\n",
       "      <td>-0.003908</td>\n",
       "      <td>-0.061418</td>\n",
       "      <td>-0.050512</td>\n",
       "    </tr>\n",
       "    <tr>\n",
       "      <th>CARDIOVASCULAR</th>\n",
       "      <td>0.062508</td>\n",
       "      <td>0.069445</td>\n",
       "      <td>0.130735</td>\n",
       "      <td>0.167948</td>\n",
       "      <td>1.000000</td>\n",
       "      <td>0.101695</td>\n",
       "      <td>0.079441</td>\n",
       "      <td>-0.018845</td>\n",
       "      <td>-0.076155</td>\n",
       "      <td>-0.113261</td>\n",
       "    </tr>\n",
       "    <tr>\n",
       "      <th>OBESITY</th>\n",
       "      <td>0.124017</td>\n",
       "      <td>0.113782</td>\n",
       "      <td>0.157696</td>\n",
       "      <td>0.089473</td>\n",
       "      <td>0.101695</td>\n",
       "      <td>1.000000</td>\n",
       "      <td>0.072600</td>\n",
       "      <td>0.020819</td>\n",
       "      <td>-0.069299</td>\n",
       "      <td>-0.089444</td>\n",
       "    </tr>\n",
       "    <tr>\n",
       "      <th>TOBACCO</th>\n",
       "      <td>0.004662</td>\n",
       "      <td>0.039020</td>\n",
       "      <td>-0.024063</td>\n",
       "      <td>0.019980</td>\n",
       "      <td>0.079441</td>\n",
       "      <td>0.072600</td>\n",
       "      <td>1.000000</td>\n",
       "      <td>0.041305</td>\n",
       "      <td>0.008155</td>\n",
       "      <td>-0.040179</td>\n",
       "    </tr>\n",
       "    <tr>\n",
       "      <th>ICU</th>\n",
       "      <td>0.413188</td>\n",
       "      <td>0.166118</td>\n",
       "      <td>0.016023</td>\n",
       "      <td>-0.003908</td>\n",
       "      <td>-0.018845</td>\n",
       "      <td>0.020819</td>\n",
       "      <td>0.041305</td>\n",
       "      <td>1.000000</td>\n",
       "      <td>-0.173773</td>\n",
       "      <td>-0.063163</td>\n",
       "    </tr>\n",
       "    <tr>\n",
       "      <th>DEATH</th>\n",
       "      <td>-0.387675</td>\n",
       "      <td>-0.324640</td>\n",
       "      <td>-0.179274</td>\n",
       "      <td>-0.061418</td>\n",
       "      <td>-0.076155</td>\n",
       "      <td>-0.069299</td>\n",
       "      <td>0.008155</td>\n",
       "      <td>-0.173773</td>\n",
       "      <td>1.000000</td>\n",
       "      <td>0.428223</td>\n",
       "    </tr>\n",
       "    <tr>\n",
       "      <th>Age_class</th>\n",
       "      <td>-0.111414</td>\n",
       "      <td>-0.229870</td>\n",
       "      <td>-0.279694</td>\n",
       "      <td>-0.050512</td>\n",
       "      <td>-0.113261</td>\n",
       "      <td>-0.089444</td>\n",
       "      <td>-0.040179</td>\n",
       "      <td>-0.063163</td>\n",
       "      <td>0.428223</td>\n",
       "      <td>1.000000</td>\n",
       "    </tr>\n",
       "  </tbody>\n",
       "</table>\n",
       "</div>"
      ],
      "text/plain": [
       "                 INTUBED  PNEUMONIA  DIABETES  OTHER_DISEASE  CARDIOVASCULAR  \\\n",
       "INTUBED         1.000000   0.254542  0.046122       0.048484        0.062508   \n",
       "PNEUMONIA       0.254542   1.000000  0.131439       0.040506        0.069445   \n",
       "DIABETES        0.046122   0.131439  1.000000       0.015484        0.130735   \n",
       "OTHER_DISEASE   0.048484   0.040506  0.015484       1.000000        0.167948   \n",
       "CARDIOVASCULAR  0.062508   0.069445  0.130735       0.167948        1.000000   \n",
       "OBESITY         0.124017   0.113782  0.157696       0.089473        0.101695   \n",
       "TOBACCO         0.004662   0.039020 -0.024063       0.019980        0.079441   \n",
       "ICU             0.413188   0.166118  0.016023      -0.003908       -0.018845   \n",
       "DEATH          -0.387675  -0.324640 -0.179274      -0.061418       -0.076155   \n",
       "Age_class      -0.111414  -0.229870 -0.279694      -0.050512       -0.113261   \n",
       "\n",
       "                 OBESITY   TOBACCO       ICU     DEATH  Age_class  \n",
       "INTUBED         0.124017  0.004662  0.413188 -0.387675  -0.111414  \n",
       "PNEUMONIA       0.113782  0.039020  0.166118 -0.324640  -0.229870  \n",
       "DIABETES        0.157696 -0.024063  0.016023 -0.179274  -0.279694  \n",
       "OTHER_DISEASE   0.089473  0.019980 -0.003908 -0.061418  -0.050512  \n",
       "CARDIOVASCULAR  0.101695  0.079441 -0.018845 -0.076155  -0.113261  \n",
       "OBESITY         1.000000  0.072600  0.020819 -0.069299  -0.089444  \n",
       "TOBACCO         0.072600  1.000000  0.041305  0.008155  -0.040179  \n",
       "ICU             0.020819  0.041305  1.000000 -0.173773  -0.063163  \n",
       "DEATH          -0.069299  0.008155 -0.173773  1.000000   0.428223  \n",
       "Age_class      -0.089444 -0.040179 -0.063163  0.428223   1.000000  "
      ]
     },
     "execution_count": 26,
     "metadata": {},
     "output_type": "execute_result"
    }
   ],
   "source": [
    "#Построим матрицу корреляции и визуализируем ее для лучшего восприятия информации\n",
    "corr = data.corr()\n",
    "corr"
   ]
  },
  {
   "cell_type": "code",
   "execution_count": 27,
   "id": "19c41c44",
   "metadata": {},
   "outputs": [
    {
     "data": {
      "image/png": "[encoded data removed]",
      "text/plain": [
       "<Figure size 800x500 with 2 Axes>"
      ]
     },
     "metadata": {},
     "output_type": "display_data"
    }
   ],
   "source": [
    "sns.heatmap(data.corr(), annot=True, cmap='RdYlGn', linewidths=0.5, annot_kws={'size':8})\n",
    "fig = plt.gcf()\n",
    "fig.set_size_inches(8, 5)\n",
    "plt.show()"
   ]
  },
  {
   "cell_type": "markdown",
   "id": "96218623",
   "metadata": {},
   "source": [
    "Сильнее всего прослеживается корреляция между:\n",
    "- Подключением к аппарату ИВЛ и смертностью\n",
    "- Пневмонией и смертностью\n",
    "- Подключением к аппарату ИВЛ и был ли пациент помещен в отделение интенсивной терапии \n",
    "(мне кажется это взаимозаменяемые признаки и один из них можно убрать)\n",
    "- Возраст и смертность\n",
    "- Диабет и возраст (основываясь на научной информации эти параметры действительно коррелируют, \n",
    "но к нашей задаче это корреляция не относится)"
   ]
  },
  {
   "cell_type": "code",
   "execution_count": null,
   "id": "2585825a",
   "metadata": {},
   "outputs": [],
   "source": []
  }
 ],
 "metadata": {
  "kernelspec": {
   "display_name": "Python 3 (ipykernel)",
   "language": "python",
   "name": "python3"
  },
  "language_info": {
   "codemirror_mode": {
    "name": "ipython",
    "version": 3
   },
   "file_extension": ".py",
   "mimetype": "text/x-python",
   "name": "python",
   "nbconvert_exporter": "python",
   "pygments_lexer": "ipython3",
   "version": "3.8.12"
  }
 },
 "nbformat": 4,
 "nbformat_minor": 5
}
